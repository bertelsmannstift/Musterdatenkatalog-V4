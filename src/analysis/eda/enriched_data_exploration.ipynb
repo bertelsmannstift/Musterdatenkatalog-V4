{
 "cells": [
  {
   "cell_type": "markdown",
   "metadata": {},
   "source": [
    "Analysis Enriched Data \n",
    "==============="
   ]
  },
  {
   "cell_type": "markdown",
   "metadata": {},
   "source": [
    "# Import and Set Up"
   ]
  },
  {
   "cell_type": "code",
   "execution_count": 1,
   "metadata": {},
   "outputs": [],
   "source": [
    "import pandas as pd \n",
    "import numpy as np\n",
    "from src.settings import Settings\n",
    "import matplotlib.pyplot as plt\n",
    "import geopandas as gpd\n",
    "from geopy import Nominatim\n",
    "from collections import Counter\n",
    "import seaborn as sns\n",
    "from src.utils.data import *\n",
    "import uuid"
   ]
  },
  {
   "cell_type": "code",
   "execution_count": 2,
   "metadata": {},
   "outputs": [],
   "source": [
    "# Settings\n",
    "settings = Settings(_env_file=\"paths/.env.dev\") \n",
    "plt.style.use('fivethirtyeight')\n",
    "data = pd.read_csv(settings.BASELINE_MDK_ENRICHED_DATA)\n",
    "data[\"uuid\"] = [uuid.uuid4() for i in range(0, len(data))]"
   ]
  },
  {
   "cell_type": "markdown",
   "metadata": {},
   "source": [
    "# Descriptive Analysis"
   ]
  },
  {
   "cell_type": "code",
   "execution_count": 3,
   "metadata": {},
   "outputs": [
    {
     "name": "stdout",
     "output_type": "stream",
     "text": [
      "dct:title column unique: False\n",
      "dct:identifier column unique: True\n",
      "dcat:landingpage column unique: True\n",
      "dct:description column unique: False\n",
      "ORG column unique: False\n",
      "dcat:Distribution.dct:license column unique: False\n",
      "dcat:theme column unique: False\n",
      "updated_at column unique: False\n",
      "added column unique: False\n",
      "MUSTERDATENSATZ column unique: False\n",
      "THEMA column unique: False\n",
      "BEZEICHNUNG column unique: False\n",
      "uuid column unique: True\n"
     ]
    }
   ],
   "source": [
    "#dcat: identifier is unique and can be used for counting\n",
    "for column in list(data.columns):\n",
    "    print(f\"{column} column unique: {data[column].is_unique}\")"
   ]
  },
  {
   "cell_type": "markdown",
   "metadata": {},
   "source": [
    "# General Descriptive Analysis of whole dataset"
   ]
  },
  {
   "cell_type": "code",
   "execution_count": 4,
   "metadata": {},
   "outputs": [
    {
     "name": "stdout",
     "output_type": "stream",
     "text": [
      "The dataset has 14195 entries\n",
      "We have 0 duplicates\n",
      "columns: Index(['dct:title', 'dct:identifier', 'dcat:landingpage', 'dct:description',\n",
      "       'ORG', 'dcat:Distribution.dct:license', 'dcat:theme', 'updated_at',\n",
      "       'added', 'MUSTERDATENSATZ', 'THEMA', 'BEZEICHNUNG', 'uuid'],\n",
      "      dtype='object')\n",
      "A sample entry looks like this: dct:title                                            Bebauungsplan Horn 23 Hamburg\n",
      "dct:identifier                                9198BE2B-ABDD-460C-BAB7-464DAB5D484F\n",
      "dcat:landingpage                 http://suche.transparenz.hamburg.de/dataset/a9...\n",
      "dct:description                  Der Bebauungsplan Horn 23 für den Geltungsbere...\n",
      "ORG                                                                        Hamburg\n",
      "dcat:Distribution.dct:license          http://dcat-ap.de/def/licenses/dl-by-de/2.0\n",
      "dcat:theme                                                     Regionen und Städte\n",
      "updated_at                                                              2021-11-26\n",
      "added                                                                   2022-03-22\n",
      "MUSTERDATENSATZ                                       Raumordnung - Bebauungspläne\n",
      "THEMA                                                                  Raumordnung\n",
      "BEZEICHNUNG                                                         Bebauungspläne\n",
      "uuid                                          4938dc5e-8ffd-4906-9663-946bb72d4300\n",
      "Name: 4, dtype: object\n"
     ]
    }
   ],
   "source": [
    "#general analysis\n",
    "print(f\"The dataset has {len(data)} entries\")\n",
    "print(f\"We have {data.duplicated().any().sum()} duplicates\")\n",
    "print(f\"columns: {data.columns}\")\n",
    "print(f\"A sample entry looks like this: {data.iloc[4]}\")"
   ]
  },
  {
   "cell_type": "code",
   "execution_count": 5,
   "metadata": {},
   "outputs": [
    {
     "name": "stdout",
     "output_type": "stream",
     "text": [
      "We have 60 unique 'Themas', 238 unique 'Bezeichnungen' and 285 unique 'Musterdatensätze'.\n"
     ]
    }
   ],
   "source": [
    "thema = len(data[\"THEMA\"].unique())\n",
    "bezeichnungen = len(data[\"BEZEICHNUNG\"].unique())\n",
    "musterdatensaetze = len(data[\"MUSTERDATENSATZ\"].unique())\n",
    "\n",
    "print(f\"We have {thema} unique 'Themas', {bezeichnungen} unique 'Bezeichnungen' and {musterdatensaetze} unique 'Musterdatensätze'.\")"
   ]
  },
  {
   "cell_type": "code",
   "execution_count": null,
   "metadata": {},
   "outputs": [],
   "source": [
    "list(data[\"BEZEICHNUNG\"].unique())"
   ]
  },
  {
   "cell_type": "markdown",
   "metadata": {},
   "source": [
    "## DCAT: theme"
   ]
  },
  {
   "cell_type": "code",
   "execution_count": null,
   "metadata": {},
   "outputs": [],
   "source": [
    "# dcat:theme analsis\n",
    "print('amount of uniquely combined dcat:theme entries', len(data['dcat:theme'].unique())) #2409\n",
    "print('amount of missing entries in dcat:theme', data['dcat:theme'].isnull().sum())\n",
    "print('percent of missing dcat:theme', len(data[data['dcat:theme'].notna()])/ len(data))"
   ]
  },
  {
   "cell_type": "code",
   "execution_count": null,
   "metadata": {},
   "outputs": [],
   "source": [
    "#inspecting the ones with a missing theme more: question if there is a default category they fall into\n",
    "missing_theme = data.copy()\n",
    "missing_theme['dcat:theme'].fillna('No theme', inplace= True)\n",
    "missing_theme = missing_theme[missing_theme['dcat:theme'] == 'No theme']"
   ]
  },
  {
   "cell_type": "code",
   "execution_count": null,
   "metadata": {},
   "outputs": [],
   "source": [
    "#Preprocessing dcat:theme\n",
    "def preprocess_dcat_theme(data:pd.DataFrame)-> List:\n",
    "    \"\"\"function filters dcat:theme for unique themes and counts them\n",
    "\n",
    "    Parameters\n",
    "    ----------\n",
    "    data : pd.DataFrame\n",
    "        dataframe that contains the column \"dcat:theme\"\n",
    "\n",
    "    Returns\n",
    "    -------\n",
    "    List\n",
    "       nested and flat lists of all unique dcat themes\n",
    "    \"\"\"\n",
    "\n",
    "    theme_processed = data[['dcat:theme']].copy()\n",
    "    theme_processed.dropna(axis='rows', inplace=True)\n",
    "\n",
    "    theme_list = [] #for coocurrence\n",
    "    for row in theme_processed['dcat:theme']:\n",
    "        row_list = row.split(\",\")\n",
    "        cleaned = []\n",
    "        for entry in row_list:\n",
    "            clean_entry = entry.strip()\n",
    "            cleaned.append(clean_entry)\n",
    "        theme_list.append(cleaned)\n",
    "\n",
    "\n",
    "    theme_list_flat = [item for sublist in theme_list for item in sublist]\n",
    "\n",
    "    #unique_dcat_themes =  list(dict.fromkeys(theme_list_flat)) #for coocurrence\n",
    "    return theme_list, theme_list_flat\n",
    "\n",
    "\n",
    "theme_list, theme_list_flat = preprocess_dcat_theme(data)\n",
    "#detected short \n",
    "unique_dcat_themes = ['Bildung', 'Bevölkerung und Gesellschaft', 'Regierung und öffentlicher Sektor', 'Justiz',  'Verkehr', 'Landwirtschaft',  'Wirtschaft und Finanzen', 'Umwelt', 'Regionen und Städte', 'Energie', 'Gesundheit', 'Wissenschaft und Technologie', 'Internationale Themen']\n",
    "\n",
    "#long formats of the themes\n",
    "written_themes = ['Bildung, Kultur und Sport', 'Bevölkerung und Gesellschaft', 'Regierung und öffentlicher Sektor', 'Justiz, Rechtssystem und öffentliche Sicherheit', 'Verkehr', 'Landwirtschaft, Fischerei, Forstwirtschaft und Nahrungsmittel', 'Wirtschaft und Finanzen', 'Umwelt', 'Regionen und Städte', 'Energie', 'Gesundheit', 'Wissenschaft und Technologie']\n",
    "\n",
    "words_cooc_matrix, word_to_id = create_co_occurences_matrix(unique_dcat_themes, theme_list)\n",
    "normal_matrix = words_cooc_matrix.toarray() #transform to plot\n",
    "\n",
    "ax = plt.axes()\n",
    "ax.set_title('Coocurrence of dcat:themes')\n",
    "sns.set(font_scale=0.8)\n",
    "sns.heatmap(normal_matrix, xticklabels = written_themes, yticklabels= written_themes, ax = ax, annot=True, annot_kws={\"fontsize\":8},fmt='g')"
   ]
  },
  {
   "cell_type": "code",
   "execution_count": null,
   "metadata": {},
   "outputs": [],
   "source": [
    "x_labels = ['Regierung und öffentlicher Sektor', 'Regionen und Städte', 'Bevölkerung und Gesellschaft', 'Umwelt',\n",
    "'Verkehr', 'Wirtschaft und Finanzen', 'Landwirtschaft, Fischerei, Forstwirtschaft und Nahrungsmittel', \n",
    "'Justiz, Rechtssystem und öffentliche Sicherheit', 'Gesundheit', \n",
    "'Energie', 'Bildung, Kultur und Sport', 'Wissenschaft und Technologie']\n",
    "\n",
    "\n",
    "#VIS\n",
    "themes_count = Counter(theme_list_flat)\n",
    "#deleting 'double' counted labels\n",
    "del(themes_count['Fischerei'])\n",
    "del(themes_count['Forstwirtschaft und Nahrungsmittel'])\n",
    "del(themes_count['Rechtssystem und öffentliche Sicherheit'])\n",
    "del(themes_count['Kultur und Sport'])\n",
    "themes_count = themes_count.most_common()\n",
    "\n",
    "x, height = zip(*themes_count)\n",
    "\n",
    "# Visualization dcat:theme\n",
    "fig, ax = plt.subplots()\n",
    "fig.set_size_inches(6,6)\n",
    "ax.bar(x, height, color=\"#FE563E\")\n",
    "ax.set_title(\"Distribution of dcat:themes (when extracted from list)\", fontsize=7)\n",
    "ax.set_xlabel(\"DCAT:theme\", fontsize=7)\n",
    "ax.set_xticks(x, labels = x_labels)\n",
    "plt.xticks(rotation=90, fontsize=7)\n",
    "plt.yticks(fontsize=7)\n",
    "plt.show()"
   ]
  },
  {
   "cell_type": "code",
   "execution_count": null,
   "metadata": {},
   "outputs": [],
   "source": [
    "#VIS\n",
    "themes_count = Counter(theme_list_flat)\n",
    "themes_count = themes_count.most_common()\n",
    "x, height = zip(*themes_count)\n",
    "\n",
    "# Visualization dcat:theme\n",
    "fig, ax = plt.subplots()\n",
    "fig.set_size_inches(6,6)\n",
    "ax.bar(x, height, color=\"#FE563E\")\n",
    "ax.set_title(\"Distribution of dcat:themes (when extracted from list)\", fontsize=7)\n",
    "ax.set_xlabel(\"DCAT:theme\", fontsize=7)\n",
    "plt.xticks(rotation=90, fontsize=7)\n",
    "plt.yticks(fontsize=7)\n",
    "plt.show()"
   ]
  },
  {
   "cell_type": "markdown",
   "metadata": {},
   "source": [
    "# THEMA "
   ]
  },
  {
   "cell_type": "code",
   "execution_count": null,
   "metadata": {},
   "outputs": [],
   "source": [
    "# Exploration data['THEMA']\n",
    "#print(data['THEMA'].value_counts())\n",
    "print('unique themas:', len(data['THEMA'].unique()))\n",
    "print('amount of missing entries in THEMA', data['THEMA'].isna().sum()) #isnull() also zero\n"
   ]
  },
  {
   "cell_type": "code",
   "execution_count": null,
   "metadata": {},
   "outputs": [],
   "source": [
    "count_thema = count_categories(df=data, column_name='THEMA')\n",
    "make_distribution_fig(df_count= count_thema, df=data, counter = 'uuid', variable='THEMA', mode='percentage', title=\"Verteilung der Datensätze nach Thema\")"
   ]
  },
  {
   "cell_type": "markdown",
   "metadata": {},
   "source": [
    "# BEZEICHNUNG"
   ]
  },
  {
   "cell_type": "code",
   "execution_count": null,
   "metadata": {},
   "outputs": [],
   "source": [
    "# Exploration data['BEZEICHNUNG']\n",
    "print(data['BEZEICHNUNG'].value_counts())\n",
    "print('unique Bezeichnungen:', len(data['BEZEICHNUNG'].unique()))"
   ]
  },
  {
   "cell_type": "code",
   "execution_count": null,
   "metadata": {},
   "outputs": [],
   "source": [
    "count_bezeichnung = count_categories(df=data, column_name='BEZEICHNUNG', limit=30)\n",
    "make_distribution_fig(df_count= count_bezeichnung, df=data, counter = 'uuid', variable='BEZEICHNUNG', mode='percentage', title=\"Verteilung der Datensätze per Bezeichnung (mehr als 30 Beispiele)\")"
   ]
  },
  {
   "cell_type": "markdown",
   "metadata": {},
   "source": [
    "# MUSTERDATENSATZ"
   ]
  },
  {
   "cell_type": "code",
   "execution_count": null,
   "metadata": {},
   "outputs": [],
   "source": [
    "# Exploration data['BEZEICHNUNG']\n",
    "print(data['MUSTERDATENSATZ'].value_counts())\n",
    "print('unique Musterdatensatz:', len(data['MUSTERDATENSATZ'].unique()))"
   ]
  },
  {
   "cell_type": "code",
   "execution_count": null,
   "metadata": {},
   "outputs": [],
   "source": [
    "count_musterdatensatz = count_categories(df=data, column_name='MUSTERDATENSATZ', limit=30)\n",
    "make_distribution_fig(df_count= count_musterdatensatz, df=data, counter = 'uuid', variable='MUSTERDATENSATZ', mode='percentage', title=\"Distribution of datasets per Musterdatensatz (more than 30 examples)\")"
   ]
  },
  {
   "cell_type": "markdown",
   "metadata": {},
   "source": [
    "# Timeline"
   ]
  },
  {
   "cell_type": "code",
   "execution_count": null,
   "metadata": {},
   "outputs": [],
   "source": [
    "print(f'The data was updated {len(data[\"updated_at\"].unique())} times' )\n",
    "\n",
    "data['time_processed'] = pd.to_datetime(data['updated_at'],format='%Y-%m-%d')\n",
    "print(f\"We have data ranging from {data['time_processed'].min().year} until {data['time_processed'].max().year}\")\n",
    "\n",
    "data['time_processed'] = data['time_processed'].dt.to_period('Y')\n",
    "\n",
    "count_time = count_categories(df=data, column_name='time_processed')\n",
    "count_time['time_processed'] = count_time['time_processed'].astype(str)\n",
    "make_distribution_fig(df_count= count_time, df=data, counter = 'uuid', variable='time_processed', mode='distribution')\n"
   ]
  }
 ],
 "metadata": {
  "kernelspec": {
   "display_name": "musterdatenkatalog-next-5ussVnf--py3.10",
   "language": "python",
   "name": "python3"
  },
  "language_info": {
   "codemirror_mode": {
    "name": "ipython",
    "version": 3
   },
   "file_extension": ".py",
   "mimetype": "text/x-python",
   "name": "python",
   "nbconvert_exporter": "python",
   "pygments_lexer": "ipython3",
   "version": "3.10.5"
  },
  "vscode": {
   "interpreter": {
    "hash": "cf25f8d1547c539d281eb1ae6b9598332db2e3bbf9045eb974b816473e76a2d4"
   }
  }
 },
 "nbformat": 4,
 "nbformat_minor": 2
}
