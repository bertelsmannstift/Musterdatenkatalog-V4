{
 "cells": [
  {
   "cell_type": "markdown",
   "metadata": {},
   "source": [
    "Analysis Baseline Training Data \n",
    "==============="
   ]
  },
  {
   "cell_type": "markdown",
   "metadata": {},
   "source": [
    "# Import and Set Up"
   ]
  },
  {
   "cell_type": "code",
   "execution_count": null,
   "metadata": {},
   "outputs": [],
   "source": [
    "# Imports \n",
    "import pandas as pd\n",
    "from src.settings import Settings\n",
    "import matplotlib.pyplot as plt\n",
    "import uuid\n",
    "from sklearn.feature_extraction.text import TfidfVectorizer\n",
    "import numpy as np\n",
    "from src.utils.data import *"
   ]
  },
  {
   "cell_type": "code",
   "execution_count": null,
   "metadata": {},
   "outputs": [],
   "source": [
    "# Settings\n",
    "settings = Settings(_env_file=\"paths/.env.dev\") \n",
    "df = pd.read_csv(settings.BASELINE_MDK_TRAINING_DATA)\n",
    "df[\"uuid\"] = [uuid.uuid4() for i in range(0, len(df))]\n",
    "plt.style.use('fivethirtyeight')"
   ]
  },
  {
   "cell_type": "markdown",
   "metadata": {},
   "source": [
    "# Descriptive Analysis"
   ]
  },
  {
   "cell_type": "code",
   "execution_count": null,
   "metadata": {},
   "outputs": [],
   "source": [
    "# Length \n",
    "print(f\"Training Data Length: {len(df)}\")"
   ]
  },
  {
   "cell_type": "code",
   "execution_count": null,
   "metadata": {},
   "outputs": [],
   "source": [
    "# Duplicates \n",
    "print(f\"Duplicates: {df.duplicated().any()}\")\n",
    "\n",
    "# check for identifying column\n",
    "for column in list(df.columns):\n",
    "    print(f\"{column} column unique: {df[column].is_unique}\")"
   ]
  },
  {
   "cell_type": "code",
   "execution_count": null,
   "metadata": {},
   "outputs": [],
   "source": [
    "# Number of categories  \n",
    "themas = len(df[\"THEMA\"].unique())\n",
    "bezeichnungen = len(df[\"BEZEICHNUNG\"].unique())\n",
    "musterdatensaetzen = len(df[\"MUSTERDATENSATZ\"].unique())\n",
    "\n",
    "print(f\"The training data consists of {themas} 'Themas', {bezeichnungen} 'Bezeichnungen' and {musterdatensaetzen} 'Musterdatensätze'\")"
   ]
  },
  {
   "cell_type": "code",
   "execution_count": null,
   "metadata": {},
   "outputs": [],
   "source": [
    "# Period \n",
    "df_date_cleaned = df[df['Datum'].notna()]\n",
    "print(f\"{len(df_date_cleaned)/len(df)*100} percent of the data has a date\")\n",
    "\n",
    "print(f'Min Date: {pd.to_datetime(df_date_cleaned[\"Datum\"]).min()}')\n",
    "print(f'Max Date: {pd.to_datetime(df_date_cleaned[\"Datum\"]).max()}')"
   ]
  },
  {
   "cell_type": "code",
   "execution_count": null,
   "metadata": {},
   "outputs": [],
   "source": [
    "# ORG\n",
    "df_ORG_cleaned = df[df['ORG'].notna()]\n",
    "print(f\"{len(df_ORG_cleaned)/len(df)*100} percent of the data has a ORG\")\n",
    "len(set(df[\"ORG\"].to_list()))\n",
    "\n",
    "# Distribution\n",
    "df_count_ORG = count_categories(df=df, column_name=\"ORG\")\n",
    "\n",
    "make_distribution_fig(df_count=df_count_ORG, variable=\"ORG\", mode=\"distribution\", counter=\"uuid\",df=df)"
   ]
  },
  {
   "cell_type": "code",
   "execution_count": null,
   "metadata": {},
   "outputs": [],
   "source": [
    "df_dcat_landing_page = df[df['dcat:landingPage'].notna()]\n",
    "print(f\"{len(df_ORG_cleaned)/len(df)*100} percent of the data has a LandingPage\")\n",
    "\n",
    "landingPages = df['dcat:landingPage'].tolist()\n",
    "\n",
    "nrw = list(filter(lambda x: \"nrw\" in x, landingPages))\n",
    "schleswig_holstein = list(filter(lambda x: \"schleswig-holstein\" in x, landingPages))\n",
    "\n",
    "print(f\"Anteil NRW Daten: {len(nrw)/len(landingPages)}\")\n",
    "print(f\"Anteil schleswig_holstein Daten: {len(schleswig_holstein)/len(landingPages)}\")"
   ]
  },
  {
   "cell_type": "code",
   "execution_count": null,
   "metadata": {},
   "outputs": [],
   "source": [
    "df_dcat_themes = df[df['dcat:theme'].notna()]\n",
    "print(f\"{len(df_dcat_themes)/len(df)*100} percent of the data has a Theme\")\n",
    "df_count_themes = count_categories(df=df, column_name=\"dcat:theme\", top=5)\n",
    "make_distribution_fig(df_count=df_count_themes, variable=\"dcat:theme\", mode=\"distribution\", counter=\"uuid\",df=df)"
   ]
  },
  {
   "cell_type": "markdown",
   "metadata": {},
   "source": [
    "# Distribution Analysis"
   ]
  },
  {
   "cell_type": "code",
   "execution_count": null,
   "metadata": {},
   "outputs": [],
   "source": [
    "# Distribution of categories Thema \n",
    "# Thema\n",
    "df_count_thema = count_categories(df=df, column_name=\"THEMA\")\n",
    "make_distribution_fig(df_count=df_count_thema, variable=\"THEMA\", mode=\"distribution\", counter=\"uuid\",df=df)"
   ]
  },
  {
   "cell_type": "code",
   "execution_count": null,
   "metadata": {},
   "outputs": [],
   "source": [
    "# Distribution of categories Bezeichnung \n",
    "\n",
    "# Bezeichnung\n",
    "df_count_bezeichnung = count_categories(df=df, column_name=\"BEZEICHNUNG\", limit=5)\n",
    "make_distribution_fig(df_count=df_count_bezeichnung, variable=\"BEZEICHNUNG\", mode=\"distribution\", counter=\"uuid\",df=df)"
   ]
  },
  {
   "cell_type": "code",
   "execution_count": null,
   "metadata": {},
   "outputs": [],
   "source": [
    "# Distribution of categories Musterdatensatz  \n",
    "# Musterdatensatz\n",
    "df_mkd_per_category = df.groupby(by=[\"MUSTERDATENSATZ\"]).count()[\"uuid\"].reset_index().sort_values(by=[\"uuid\"], ascending=False) \n",
    "\n",
    "# exclude all musterdatensaetze lower than 5 \n",
    "df_count_musterdatensatz = count_categories(df=df, column_name=\"MUSTERDATENSATZ\", limit=5) \n",
    "\n",
    "make_distribution_fig(df_count=df_count_musterdatensatz, variable=\"MUSTERDATENSATZ\", mode=\"distribution\", counter=\"uuid\",df=df)"
   ]
  }
 ],
 "metadata": {
  "kernelspec": {
   "display_name": "Python 3.10.5 ('musterdatenkatalog-next-5ussVnf--py3.10')",
   "language": "python",
   "name": "python3"
  },
  "language_info": {
   "codemirror_mode": {
    "name": "ipython",
    "version": 3
   },
   "file_extension": ".py",
   "mimetype": "text/x-python",
   "name": "python",
   "nbconvert_exporter": "python",
   "pygments_lexer": "ipython3",
   "version": "3.10.5"
  },
  "orig_nbformat": 4,
  "vscode": {
   "interpreter": {
    "hash": "cf25f8d1547c539d281eb1ae6b9598332db2e3bbf9045eb974b816473e76a2d4"
   }
  }
 },
 "nbformat": 4,
 "nbformat_minor": 2
}
